{
 "cells": [
  {
   "cell_type": "markdown",
   "metadata": {},
   "source": [
    "# Notebook for a generic model with known Hamiltonian\n",
    "\n",
    "This notebook is meant to be used when the Hamiltonian has been calculated using other tools. There is no\n",
    "model implementation being imported here. It is assumed that you have the Hamiltonian calculated and saved\n",
    "as a text representation of a python dictionary. This notebook merely reads that dictionary and passes those\n",
    "coupling strengths to a hybrid sampler.\n"
   ]
  },
  {
   "cell_type": "code",
   "execution_count": null,
   "metadata": {},
   "outputs": [],
   "source": [
    "from dwave.system import LeapHybridSampler"
   ]
  },
  {
   "cell_type": "code",
   "execution_count": null,
   "metadata": {},
   "outputs": [],
   "source": [
    "filename = \"H.dat\"\n",
    "fp = open(filename, \"r\")\n",
    "H = fp.read()\n",
    "T = 5"
   ]
  },
  {
   "cell_type": "code",
   "execution_count": null,
   "metadata": {},
   "outputs": [],
   "source": [
    "sampler = LeapHybridSampler()\n",
    "mysamples = [] \n",
    "for i in range(0, 5):\n",
    "    print(\"Asking hybrid sampler for a sample\")\n",
    "    sampleset = sampler.sample_qubo(H, time_limit=T)\n",
    "    print(sampleset.info)\n",
    "    print(\"Received sample set\")\n",
    "    sample0 = sampleset.record[0]\n",
    "    mysamples.append(sample0.sample)"
   ]
  },
  {
   "cell_type": "code",
   "execution_count": null,
   "metadata": {},
   "outputs": [],
   "source": []
  }
 ],
 "metadata": {
  "interpreter": {
   "hash": "4cd7ab41f5fca4b9b44701077e38c5ffd31fe66a6cab21e0214b68d958d0e462"
  },
  "kernelspec": {
   "display_name": "Python 3 (ipykernel)",
   "language": "python",
   "name": "python3"
  },
  "language_info": {
   "codemirror_mode": {
    "name": "ipython",
    "version": 3
   },
   "file_extension": ".py",
   "mimetype": "text/x-python",
   "name": "python",
   "nbconvert_exporter": "python",
   "pygments_lexer": "ipython3",
   "version": "3.9.7"
  }
 },
 "nbformat": 4,
 "nbformat_minor": 4
}
